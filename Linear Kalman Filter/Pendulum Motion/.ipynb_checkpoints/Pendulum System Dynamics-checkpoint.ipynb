{
 "cells": [
  {
   "cell_type": "markdown",
   "id": "10916e2e",
   "metadata": {},
   "source": [
    "### Pendulum System Dynamics"
   ]
  },
  {
   "cell_type": "markdown",
   "id": "e972e973",
   "metadata": {},
   "source": [
    "\n",
    "#### Pendulum Non-Linear ODE  :\n",
    "$m*l^2*\\ddot{\\theta{}} + \\frac{g}{l}*\\sin{\\theta} = \\tau$\\\n",
    "\\\n",
    "$l$ - Length of string\\\n",
    "$m$ - Mass of ball\\\n",
    "$\\tau$ - Torque applied\\\n",
    "$\\theta$ - Angle of inclination w.r.to vertical axis\n",
    "      \n",
    " \n",
    "Asumming for small angle $\\theta$, $\\sin{\\theta}$ ~ $\\theta$\n",
    "\n",
    "$\\ddot{\\theta{}} = -\\frac{g}{l}*\\theta + \\frac{1}{m*l^2*}\\tau$\\\n",
    "Since no external torque applied on the system,\\\n",
    "    $\\tau = 0$\\\n",
    "=> $\\ddot{\\theta{}} = -\\frac{g}{l}*\\theta$\n",
    "\n",
    "#### Linear State Space Form\n",
    "$\\begin{bmatrix} \\dot{\\theta}\\\\ \\ddot{\\theta}\\end{bmatrix} = \\begin{bmatrix} 0 & 1\\\\ -\\frac{g}{l} & 0 \\end{bmatrix}\\begin{bmatrix} \\theta \\\\ \\dot{\\theta}\\end{bmatrix}$\n"
   ]
  },
  {
   "cell_type": "code",
   "execution_count": null,
   "id": "ebc8bd6b",
   "metadata": {},
   "outputs": [],
   "source": []
  }
 ],
 "metadata": {
  "kernelspec": {
   "display_name": "Python 3 (ipykernel)",
   "language": "python",
   "name": "python3"
  },
  "language_info": {
   "codemirror_mode": {
    "name": "ipython",
    "version": 3
   },
   "file_extension": ".py",
   "mimetype": "text/x-python",
   "name": "python",
   "nbconvert_exporter": "python",
   "pygments_lexer": "ipython3",
   "version": "3.9.8"
  }
 },
 "nbformat": 4,
 "nbformat_minor": 5
}
