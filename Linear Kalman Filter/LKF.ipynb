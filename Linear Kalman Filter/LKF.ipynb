{
 "cells": [
  {
   "cell_type": "markdown",
   "metadata": {},
   "source": [
    "## 2D Tracking System Model\n",
    "\n",
    "State Vector, $x_k = \\begin{bmatrix}p_x\\\\p_y\\\\v_x\\\\v_y\\end{bmatrix}$\n",
    "\n",
    "Noise Vector, $w_k = \\begin{bmatrix}a_x\\\\a_y\\end{bmatrix} a_x,a_y => N(0,\\sigma^2) $\n",
    "\n",
    "\n",
    "#### 1. Discrete Process Modal (Prediction Step)\n",
    "$x_k = Fx_{k-1} +  G_{k-1}u_{k-1} + Lw_{k-1}$\\\n",
    "\\\n",
    "$F$ - State Transition Matrix \\\n",
    "$L$  - Noise Input Matrix\\\n",
    "$G$ -Control Input\n",
    "\n",
    "Let no control input is applied, then $G = 0$\n",
    "\n",
    "\n",
    "$ \\begin{bmatrix}p_x\\\\p_y\\\\v_x\\\\v_y\\end{bmatrix}_k =  \\begin{bmatrix} 1 & 0 & \\delta{t} & 0 \\\\0 & 1 &  0 & \\delta{t} \\\\ 0 & 0 & 1 & 0 \\\\ 0 & 0 & 0 & 1 \\end{bmatrix} \\begin{bmatrix} p_ x \\\\ p_y \\\\ v_x \\\\ v_y \\end{bmatrix}_{k-1} +  \\begin{bmatrix}\\frac{1}{2}\\delta{t^2} & 0 \\\\ 0 & \\frac{1}{2} \\delta{t^2} \\\\ \\delta{t} & 0 \\\\  0 & \\delta{t}  \\end{bmatrix}  \\begin{bmatrix}a_x\\\\a_y\\end{bmatrix}_{k-1}$\n",
    "##### Covariance Propagation:\n",
    "To account for new uncertainity in hte system due to the process model noise we add a new covariance term:\\\n",
    "\\\n",
    "$P_k^- = F_{k-1}P_{k-1}^+F_{k-1}^T + L_{k-1}Q_{k-1}L_{k-1}^T$\n",
    "\n",
    "Where, $P_k$- Process covariance, $Q_k$ - Noise covariance =$\\begin{bmatrix}\\sigma^2_x & 0 \\\\ 0 & \\sigma^2_y \\end{bmatrix}$\n",
    "\n",
    "For simplicity,\n",
    "$\\sigma_x = \\sigma_y = \\sigma$, then\n",
    "\n",
    "$x_k = Fx_{k-1} +  G_{k-1}u_{k-1} + \\hat{w}_{k-1}$\n",
    "\n",
    "Where, $\\hat{w}_{k-1} = L{w}_{k-1}$ -  Additive noise\n",
    "\n",
    "$Q_k = \\sigma \\begin{bmatrix} 1 & 0 \\\\ 0 & 1 \\end{bmatrix}$\n",
    "\n",
    "=> $P_k^- = F_{k-1}P_{k-1}^+F_{k-1}^T + \\hat{Q}$\n",
    "\n",
    "$\\hat{Q} = \\sigma \\begin{bmatrix}\\frac{1}{2}\\delta{t^2} & 0 & 0 & 0 \\\\ 0 & \\frac{1}{2} \\delta{t^2} & 0 & 0 \\\\0 & 0 & \\delta{t} & 0 \\\\  0 & 0 & 0 &\\delta{t}  \\end{bmatrix} $\n",
    "\n"
   ]
  },
  {
   "cell_type": "code",
   "execution_count": null,
   "metadata": {},
   "outputs": [],
   "source": []
  }
 ],
 "metadata": {
  "kernelspec": {
   "display_name": "Python 3 (ipykernel)",
   "language": "python",
   "name": "python3"
  },
  "language_info": {
   "codemirror_mode": {
    "name": "ipython",
    "version": 3
   },
   "file_extension": ".py",
   "mimetype": "text/x-python",
   "name": "python",
   "nbconvert_exporter": "python",
   "pygments_lexer": "ipython3",
   "version": "3.9.8"
  }
 },
 "nbformat": 4,
 "nbformat_minor": 2
}
